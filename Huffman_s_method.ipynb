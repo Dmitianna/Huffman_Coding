{
 "cells": [
  {
   "cell_type": "code",
   "execution_count": 1,
   "id": "bee5ff8c",
   "metadata": {},
   "outputs": [],
   "source": [
    "#Получаем на вход текстовый файл. Пока не знаем для кодирования или декодирования\n",
    "input_text= \"приветjfhfyehfbskwurbrbdhdhddyweygb\" "
   ]
  },
  {
   "cell_type": "code",
   "execution_count": 2,
   "id": "910621d6",
   "metadata": {},
   "outputs": [],
   "source": [
    "#Создаём массив частотности встречи каждого символа\n",
    "frequency = {}"
   ]
  },
  {
   "cell_type": "code",
   "execution_count": 3,
   "id": "9125ca69",
   "metadata": {},
   "outputs": [],
   "source": [
    "#Заполняем этот массив \n",
    "for i in input_text: \n",
    "    if i in frequency:\n",
    "        frequency[i]+=1\n",
    "    else: \n",
    "        frequency[i]=1   "
   ]
  },
  {
   "cell_type": "code",
   "execution_count": 4,
   "id": "47f94a6b",
   "metadata": {},
   "outputs": [
    {
     "name": "stdout",
     "output_type": "stream",
     "text": [
      "{'п': 1, 'р': 1, 'и': 1, 'в': 1, 'е': 1, 'т': 1, 'j': 1, 'f': 3, 'h': 4, 'y': 3, 'e': 2, 'b': 4, 's': 1, 'k': 1, 'w': 2, 'u': 1, 'r': 2, 'd': 4, 'g': 1}\n"
     ]
    }
   ],
   "source": [
    "#Проверяем вывод\n",
    "print(frequency)"
   ]
  },
  {
   "cell_type": "code",
   "execution_count": 5,
   "id": "4f868d52",
   "metadata": {},
   "outputs": [
    {
     "data": {
      "text/plain": [
       "' Нам нужно отсортировать по возрастанию частотности\\nВарианты из stack overflow\\ndict(sorted(x.items(), key=lambda item: item[1]))\\n{0: 0, 2: 1, 1: 2, 4: 3, 3: 4}\\n\\n\\nfor i in sorted(frequency, key=frequency.get, reverse=True):\\n    print(i, frequency[i])'"
      ]
     },
     "execution_count": 5,
     "metadata": {},
     "output_type": "execute_result"
    }
   ],
   "source": [
    "''' Нам нужно отсортировать по возрастанию частотности\n",
    "Варианты из stack overflow\n",
    "dict(sorted(x.items(), key=lambda item: item[1]))\n",
    "{0: 0, 2: 1, 1: 2, 4: 3, 3: 4}\n",
    "\n",
    "\n",
    "for i in sorted(frequency, key=frequency.get, reverse=True):\n",
    "    print(i, frequency[i])'''"
   ]
  },
  {
   "cell_type": "code",
   "execution_count": 6,
   "id": "7efed4fd",
   "metadata": {},
   "outputs": [
    {
     "name": "stdout",
     "output_type": "stream",
     "text": [
      "{'п': 1, 'р': 1, 'и': 1, 'в': 1, 'е': 1, 'т': 1, 'j': 1, 's': 1, 'k': 1, 'u': 1, 'g': 1, 'e': 2, 'w': 2, 'r': 2, 'f': 3, 'y': 3, 'h': 4, 'b': 4, 'd': 4}\n"
     ]
    }
   ],
   "source": [
    "#Отсортируем по частотности от самого редкого к самому частому \n",
    "frequency=dict(sorted(frequency.items(), key=lambda item: item[1]))\n",
    "\n",
    "print(frequency)"
   ]
  },
  {
   "cell_type": "code",
   "execution_count": null,
   "id": "6243b692",
   "metadata": {},
   "outputs": [],
   "source": []
  },
  {
   "cell_type": "code",
   "execution_count": null,
   "id": "84c3b40e",
   "metadata": {},
   "outputs": [],
   "source": []
  }
 ],
 "metadata": {
  "kernelspec": {
   "display_name": "Python 3 (ipykernel)",
   "language": "python",
   "name": "python3"
  },
  "language_info": {
   "codemirror_mode": {
    "name": "ipython",
    "version": 3
   },
   "file_extension": ".py",
   "mimetype": "text/x-python",
   "name": "python",
   "nbconvert_exporter": "python",
   "pygments_lexer": "ipython3",
   "version": "3.11.0"
  }
 },
 "nbformat": 4,
 "nbformat_minor": 5
}
